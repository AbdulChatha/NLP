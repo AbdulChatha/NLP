{
  "nbformat": 4,
  "nbformat_minor": 0,
  "metadata": {
    "colab": {
      "provenance": []
    },
    "kernelspec": {
      "name": "python3",
      "display_name": "Python 3"
    },
    "language_info": {
      "name": "python"
    }
  },
  "cells": [
    {
      "cell_type": "code",
      "execution_count": null,
      "metadata": {
        "id": "593k7bCPX-mu"
      },
      "outputs": [],
      "source": [
        "faqs = \"\"\"About the Program\n",
        "What is the course fee for  Data Science Mentorship Program (DSMP 2023)\n",
        "The course follows a monthly subscription model where you have to make monthly payments of Rs 799/month.\n",
        "What is the total duration of the course?\n",
        "The total duration of the course is 7 months. So the total course fee becomes 799*7 = Rs 5600(approx.)\n",
        "What is the syllabus of the mentorship program?\n",
        "We will be covering the following modules:\n",
        "Python Fundamentals\n",
        "Python libraries for Data Science\n",
        "Data Analysis\n",
        "SQL for Data Science\n",
        "Maths for Machine Learning\n",
        "ML Algorithms\n",
        "Practical ML\n",
        "MLOPs\n",
        "Case studies\n",
        "You can check the detailed syllabus here - https://learnwith.campusx.in/courses/CampusX-Data-Science-Mentorship-Program-637339afe4b0615a1bbed390\n",
        "Will Deep Learning and NLP be a part of this program?\n",
        "No, NLP and Deep Learning both are not a part of this program’s curriculum.\n",
        "What if I miss a live session? Will I get a recording of the session?\n",
        "Yes all our sessions are recorded, so even if you miss a session you can go back and watch the recording.\n",
        "Where can I find the class schedule?\n",
        "Checkout this google sheet to see month by month time table of the course - https://docs.google.com/spreadsheets/d/16OoTax_A6ORAeCg4emgexhqqPv3noQPYKU7RJ6ArOzk/edit?usp=sharing.\n",
        "What is the time duration of all the live sessions?\n",
        "Roughly, all the sessions last 2 hours.\n",
        "What is the language spoken by the instructor during the sessions?\n",
        "Hinglish\n",
        "How will I be informed about the upcoming class?\n",
        "You will get a mail from our side before every paid session once you become a paid user.\n",
        "Can I do this course if I am from a non-tech background?\n",
        "Yes, absolutely.\n",
        "I am late, can I join the program in the middle?\n",
        "Absolutely, you can join the program anytime.\n",
        "If I join/pay in the middle, will I be able to see all the past lectures?\n",
        "Yes, once you make the payment you will be able to see all the past content in your dashboard.\n",
        "Where do I have to submit the task?\n",
        "You don’t have to submit the task. We will provide you with the solutions, you have to self evaluate the task yourself.\n",
        "Will we do case studies in the program?\n",
        "Yes.\n",
        "Where can we contact you?\n",
        "You can mail us at nitish.campusx@gmail.com\n",
        "Payment/Registration related questions\n",
        "Where do we have to make our payments? Your YouTube channel or website?\n",
        "You have to make all your monthly payments on our website. Here is the link for our website - https://learnwith.campusx.in/\n",
        "Can we pay the entire amount of Rs 5600 all at once?\n",
        "Unfortunately no, the program follows a monthly subscription model.\n",
        "What is the validity of monthly subscription? Suppose if I pay on 15th Jan, then do I have to pay again on 1st Feb or 15th Feb\n",
        "15th Feb. The validity period is 30 days from the day you make the payment. So essentially you can join anytime you don’t have to wait for a month to end.\n",
        "What if I don’t like the course after making the payment. What is the refund policy?\n",
        "You get a 7 days refund period from the day you have made the payment.\n",
        "I am living outside India and I am not able to make the payment on the website, what should I do?\n",
        "You have to contact us by sending a mail at nitish.campusx@gmail.com\n",
        "Post registration queries\n",
        "Till when can I view the paid videos on the website?\n",
        "This one is tricky, so read carefully. You can watch the videos till your subscription is valid. Suppose you have purchased subscription on 21st Jan, you will be able to watch all the past paid sessions in the period of 21st Jan to 20th Feb. But after 21st Feb you will have to purchase the subscription again.\n",
        "But once the course is over and you have paid us Rs 5600(or 7 installments of Rs 799) you will be able to watch the paid sessions till Aug 2024.\n",
        "Why lifetime validity is not provided?\n",
        "Because of the low course fee.\n",
        "Where can I reach out in case of a doubt after the session?\n",
        "You will have to fill a google form provided in your dashboard and our team will contact you for a 1 on 1 doubt clearance session\n",
        "If I join the program late, can I still ask past week doubts?\n",
        "Yes, just select past week doubt in the doubt clearance google form.\n",
        "I am living outside India and I am not able to make the payment on the website, what should I do?\n",
        "You have to contact us by sending a mail at nitish.campusx@gmai.com\n",
        "Certificate and Placement Assistance related queries\n",
        "What is the criteria to get the certificate?\n",
        "There are 2 criterias:\n",
        "You have to pay the entire fee of Rs 5600\n",
        "You have to attempt all the course assessments.\n",
        "I am joining late. How can I pay payment of the earlier months?\n",
        "You will get a link to pay fee of earlier months in your dashboard once you pay for the current month.\n",
        "I have read that Placement assistance is a part of this program. What comes under Placement assistance?\n",
        "This is to clarify that Placement assistance does not mean Placement guarantee. So we dont guarantee you any jobs or for that matter even interview calls. So if you are planning to join this course just for placements, I am afraid you will be disappointed. Here is what comes under placement assistance\n",
        "Portfolio Building sessions\n",
        "Soft skill sessions\n",
        "Sessions with industry mentors\n",
        "Discussion on Job hunting strategies\n",
        "\"\"\""
      ]
    },
    {
      "cell_type": "code",
      "source": [
        "import tensorflow as tf\n",
        "from keras.preprocessing.text import Tokenizer"
      ],
      "metadata": {
        "id": "RcBpQnKRKqnV"
      },
      "execution_count": null,
      "outputs": []
    },
    {
      "cell_type": "code",
      "source": [
        "tokenizer=Tokenizer()"
      ],
      "metadata": {
        "id": "KhWMGqepK_0P"
      },
      "execution_count": null,
      "outputs": []
    },
    {
      "cell_type": "code",
      "source": [
        "tokenizer.fit_on_texts([faqs])"
      ],
      "metadata": {
        "id": "d7zBkhazLE5Y"
      },
      "execution_count": null,
      "outputs": []
    },
    {
      "cell_type": "code",
      "source": [
        "# tokenizer.word_index"
      ],
      "metadata": {
        "id": "gDo1LBcULSS0"
      },
      "execution_count": null,
      "outputs": []
    },
    {
      "cell_type": "code",
      "source": [
        "tokenizer.texts_to_sequences(faqs.split('\\n')[0:7])"
      ],
      "metadata": {
        "colab": {
          "base_uri": "https://localhost:8080/"
        },
        "id": "8-Dy7xjTLy6K",
        "outputId": "53ad3b38-5293-4936-d219-18b001166891"
      },
      "execution_count": null,
      "outputs": [
        {
          "output_type": "execute_result",
          "data": {
            "text/plain": [
              "[[93, 1, 13],\n",
              " [11, 7, 1, 12, 42, 15, 43, 53, 68, 13, 147, 148],\n",
              " [1, 12, 94, 5, 44, 29, 95, 30, 2, 8, 4, 26, 44, 69, 6, 31, 70, 45],\n",
              " [11, 7, 1, 71, 72, 6, 1, 12],\n",
              " [1, 71, 72, 6, 1, 12, 7, 54, 73, 32, 1, 71, 12, 42, 149, 70, 54, 31, 55, 150],\n",
              " [11, 7, 1, 96, 6, 1, 68, 13],\n",
              " [27, 9, 19, 151, 1, 152, 153]]"
            ]
          },
          "metadata": {},
          "execution_count": 93
        }
      ]
    },
    {
      "cell_type": "code",
      "source": [
        "input_sequences=[]\n",
        "for sentence in faqs.split('\\n'):\n",
        "  tokenized_sentence=tokenizer.texts_to_sequences([sentence])[0]\n",
        "  for i in range(1,len(tokenized_sentence)):\n",
        "    input_sequences.append(tokenized_sentence[0:i+1])"
      ],
      "metadata": {
        "id": "ER83tsTlMHFp"
      },
      "execution_count": null,
      "outputs": []
    },
    {
      "cell_type": "code",
      "source": [
        "input_sequences[0:14]"
      ],
      "metadata": {
        "colab": {
          "base_uri": "https://localhost:8080/"
        },
        "id": "NKwt-ghrNORP",
        "outputId": "d105ad95-f518-498b-d5a5-7883a8f69204"
      },
      "execution_count": null,
      "outputs": [
        {
          "output_type": "execute_result",
          "data": {
            "text/plain": [
              "[[93, 1],\n",
              " [93, 1, 13],\n",
              " [11, 7],\n",
              " [11, 7, 1],\n",
              " [11, 7, 1, 12],\n",
              " [11, 7, 1, 12, 42],\n",
              " [11, 7, 1, 12, 42, 15],\n",
              " [11, 7, 1, 12, 42, 15, 43],\n",
              " [11, 7, 1, 12, 42, 15, 43, 53],\n",
              " [11, 7, 1, 12, 42, 15, 43, 53, 68],\n",
              " [11, 7, 1, 12, 42, 15, 43, 53, 68, 13],\n",
              " [11, 7, 1, 12, 42, 15, 43, 53, 68, 13, 147],\n",
              " [11, 7, 1, 12, 42, 15, 43, 53, 68, 13, 147, 148],\n",
              " [1, 12]]"
            ]
          },
          "metadata": {},
          "execution_count": 95
        }
      ]
    },
    {
      "cell_type": "code",
      "source": [
        "max_len=max([len(x) for x in input_sequences])\n",
        "max_len"
      ],
      "metadata": {
        "colab": {
          "base_uri": "https://localhost:8080/"
        },
        "id": "VZ2BBjw_NbsY",
        "outputId": "e0008a25-1522-494c-ff3a-e4f6ca6672fa"
      },
      "execution_count": null,
      "outputs": [
        {
          "output_type": "execute_result",
          "data": {
            "text/plain": [
              "57"
            ]
          },
          "metadata": {},
          "execution_count": 96
        }
      ]
    },
    {
      "cell_type": "code",
      "source": [
        "from keras.preprocessing.sequence import pad_sequences\n",
        "padded_input_sequences=pad_sequences(input_sequences,maxlen=max_len,padding='pre')\n",
        "padded_input_sequences[0:10]"
      ],
      "metadata": {
        "colab": {
          "base_uri": "https://localhost:8080/"
        },
        "id": "sQ4fbBLxNyCq",
        "outputId": "cccbe1a1-1dff-41e2-fbf2-6b282a28ee08"
      },
      "execution_count": null,
      "outputs": [
        {
          "output_type": "execute_result",
          "data": {
            "text/plain": [
              "array([[ 0,  0,  0,  0,  0,  0,  0,  0,  0,  0,  0,  0,  0,  0,  0,  0,\n",
              "         0,  0,  0,  0,  0,  0,  0,  0,  0,  0,  0,  0,  0,  0,  0,  0,\n",
              "         0,  0,  0,  0,  0,  0,  0,  0,  0,  0,  0,  0,  0,  0,  0,  0,\n",
              "         0,  0,  0,  0,  0,  0,  0, 93,  1],\n",
              "       [ 0,  0,  0,  0,  0,  0,  0,  0,  0,  0,  0,  0,  0,  0,  0,  0,\n",
              "         0,  0,  0,  0,  0,  0,  0,  0,  0,  0,  0,  0,  0,  0,  0,  0,\n",
              "         0,  0,  0,  0,  0,  0,  0,  0,  0,  0,  0,  0,  0,  0,  0,  0,\n",
              "         0,  0,  0,  0,  0,  0, 93,  1, 13],\n",
              "       [ 0,  0,  0,  0,  0,  0,  0,  0,  0,  0,  0,  0,  0,  0,  0,  0,\n",
              "         0,  0,  0,  0,  0,  0,  0,  0,  0,  0,  0,  0,  0,  0,  0,  0,\n",
              "         0,  0,  0,  0,  0,  0,  0,  0,  0,  0,  0,  0,  0,  0,  0,  0,\n",
              "         0,  0,  0,  0,  0,  0,  0, 11,  7],\n",
              "       [ 0,  0,  0,  0,  0,  0,  0,  0,  0,  0,  0,  0,  0,  0,  0,  0,\n",
              "         0,  0,  0,  0,  0,  0,  0,  0,  0,  0,  0,  0,  0,  0,  0,  0,\n",
              "         0,  0,  0,  0,  0,  0,  0,  0,  0,  0,  0,  0,  0,  0,  0,  0,\n",
              "         0,  0,  0,  0,  0,  0, 11,  7,  1],\n",
              "       [ 0,  0,  0,  0,  0,  0,  0,  0,  0,  0,  0,  0,  0,  0,  0,  0,\n",
              "         0,  0,  0,  0,  0,  0,  0,  0,  0,  0,  0,  0,  0,  0,  0,  0,\n",
              "         0,  0,  0,  0,  0,  0,  0,  0,  0,  0,  0,  0,  0,  0,  0,  0,\n",
              "         0,  0,  0,  0,  0, 11,  7,  1, 12],\n",
              "       [ 0,  0,  0,  0,  0,  0,  0,  0,  0,  0,  0,  0,  0,  0,  0,  0,\n",
              "         0,  0,  0,  0,  0,  0,  0,  0,  0,  0,  0,  0,  0,  0,  0,  0,\n",
              "         0,  0,  0,  0,  0,  0,  0,  0,  0,  0,  0,  0,  0,  0,  0,  0,\n",
              "         0,  0,  0,  0, 11,  7,  1, 12, 42],\n",
              "       [ 0,  0,  0,  0,  0,  0,  0,  0,  0,  0,  0,  0,  0,  0,  0,  0,\n",
              "         0,  0,  0,  0,  0,  0,  0,  0,  0,  0,  0,  0,  0,  0,  0,  0,\n",
              "         0,  0,  0,  0,  0,  0,  0,  0,  0,  0,  0,  0,  0,  0,  0,  0,\n",
              "         0,  0,  0, 11,  7,  1, 12, 42, 15],\n",
              "       [ 0,  0,  0,  0,  0,  0,  0,  0,  0,  0,  0,  0,  0,  0,  0,  0,\n",
              "         0,  0,  0,  0,  0,  0,  0,  0,  0,  0,  0,  0,  0,  0,  0,  0,\n",
              "         0,  0,  0,  0,  0,  0,  0,  0,  0,  0,  0,  0,  0,  0,  0,  0,\n",
              "         0,  0, 11,  7,  1, 12, 42, 15, 43],\n",
              "       [ 0,  0,  0,  0,  0,  0,  0,  0,  0,  0,  0,  0,  0,  0,  0,  0,\n",
              "         0,  0,  0,  0,  0,  0,  0,  0,  0,  0,  0,  0,  0,  0,  0,  0,\n",
              "         0,  0,  0,  0,  0,  0,  0,  0,  0,  0,  0,  0,  0,  0,  0,  0,\n",
              "         0, 11,  7,  1, 12, 42, 15, 43, 53],\n",
              "       [ 0,  0,  0,  0,  0,  0,  0,  0,  0,  0,  0,  0,  0,  0,  0,  0,\n",
              "         0,  0,  0,  0,  0,  0,  0,  0,  0,  0,  0,  0,  0,  0,  0,  0,\n",
              "         0,  0,  0,  0,  0,  0,  0,  0,  0,  0,  0,  0,  0,  0,  0,  0,\n",
              "        11,  7,  1, 12, 42, 15, 43, 53, 68]], dtype=int32)"
            ]
          },
          "metadata": {},
          "execution_count": 97
        }
      ]
    },
    {
      "cell_type": "code",
      "source": [
        "X=padded_input_sequences[:,:-1]"
      ],
      "metadata": {
        "id": "I0JTBdylOWkX"
      },
      "execution_count": null,
      "outputs": []
    },
    {
      "cell_type": "code",
      "source": [
        "y=padded_input_sequences[:,-1]"
      ],
      "metadata": {
        "id": "xAl6t5C5Of-T"
      },
      "execution_count": null,
      "outputs": []
    },
    {
      "cell_type": "code",
      "source": [
        "# One hot encoding\n",
        "num_classes=len(tokenizer.word_index) #num classes mean number of unique words in document\n",
        "# num_classes  #282\n",
        "from keras.utils import to_categorical\n",
        "y = to_categorical(y,num_classes=283)"
      ],
      "metadata": {
        "id": "StTYOhzcO50A"
      },
      "execution_count": null,
      "outputs": []
    },
    {
      "cell_type": "code",
      "source": [
        "from keras.models import Sequential\n",
        "from keras.layers import Dense,LSTM,Embedding"
      ],
      "metadata": {
        "id": "INjaWxtpfqOJ"
      },
      "execution_count": null,
      "outputs": []
    },
    {
      "cell_type": "code",
      "source": [
        "model=Sequential()\n",
        "model.add(Embedding(283,100,input_length=56))\n",
        "model.add(LSTM(150))\n",
        "model.add(Dense(283,activation='softmax'))"
      ],
      "metadata": {
        "id": "0qVJ7GGWf58m"
      },
      "execution_count": null,
      "outputs": []
    },
    {
      "cell_type": "code",
      "source": [
        "model.compile(optimizer='adam',loss='categorical_crossentropy',metrics=['accuracy'])"
      ],
      "metadata": {
        "id": "vk1OOifjg6qk"
      },
      "execution_count": null,
      "outputs": []
    },
    {
      "cell_type": "code",
      "source": [
        "model.summary()"
      ],
      "metadata": {
        "colab": {
          "base_uri": "https://localhost:8080/"
        },
        "id": "Bc20lldehLPq",
        "outputId": "2dbf1baf-4859-486c-e810-50d181fd8c2d"
      },
      "execution_count": null,
      "outputs": [
        {
          "output_type": "stream",
          "name": "stdout",
          "text": [
            "Model: \"sequential_6\"\n",
            "_________________________________________________________________\n",
            " Layer (type)                Output Shape              Param #   \n",
            "=================================================================\n",
            " embedding_6 (Embedding)     (None, 56, 100)           28300     \n",
            "                                                                 \n",
            " lstm_6 (LSTM)               (None, 150)               150600    \n",
            "                                                                 \n",
            " dense_6 (Dense)             (None, 283)               42733     \n",
            "                                                                 \n",
            "=================================================================\n",
            "Total params: 221633 (865.75 KB)\n",
            "Trainable params: 221633 (865.75 KB)\n",
            "Non-trainable params: 0 (0.00 Byte)\n",
            "_________________________________________________________________\n"
          ]
        }
      ]
    },
    {
      "cell_type": "code",
      "source": [
        "model.fit(X,y,epochs=50)"
      ],
      "metadata": {
        "colab": {
          "base_uri": "https://localhost:8080/"
        },
        "id": "NF0D_XOjhN4m",
        "outputId": "c109dad3-4864-4873-d69c-5f3d47a7a120"
      },
      "execution_count": null,
      "outputs": [
        {
          "output_type": "stream",
          "name": "stdout",
          "text": [
            "Epoch 1/50\n",
            "27/27 [==============================] - 7s 147ms/step - loss: 5.4888 - accuracy: 0.0695\n",
            "Epoch 2/50\n",
            "27/27 [==============================] - 3s 98ms/step - loss: 5.0949 - accuracy: 0.0776\n",
            "Epoch 3/50\n",
            "27/27 [==============================] - 3s 95ms/step - loss: 5.0172 - accuracy: 0.0776\n",
            "Epoch 4/50\n",
            "27/27 [==============================] - 3s 97ms/step - loss: 4.9807 - accuracy: 0.0776\n",
            "Epoch 5/50\n",
            "27/27 [==============================] - 3s 109ms/step - loss: 4.9256 - accuracy: 0.0776\n",
            "Epoch 6/50\n",
            "27/27 [==============================] - 4s 129ms/step - loss: 4.8371 - accuracy: 0.0800\n",
            "Epoch 7/50\n",
            "27/27 [==============================] - 3s 99ms/step - loss: 4.7109 - accuracy: 0.0997\n",
            "Epoch 8/50\n",
            "27/27 [==============================] - 3s 97ms/step - loss: 4.5274 - accuracy: 0.1309\n",
            "Epoch 9/50\n",
            "27/27 [==============================] - 3s 95ms/step - loss: 4.3289 - accuracy: 0.1576\n",
            "Epoch 10/50\n",
            "27/27 [==============================] - 4s 150ms/step - loss: 4.1149 - accuracy: 0.1900\n",
            "Epoch 11/50\n",
            "27/27 [==============================] - 3s 95ms/step - loss: 3.8987 - accuracy: 0.2155\n",
            "Epoch 12/50\n",
            "27/27 [==============================] - 3s 95ms/step - loss: 3.6975 - accuracy: 0.2236\n",
            "Epoch 13/50\n",
            "27/27 [==============================] - 3s 98ms/step - loss: 3.4839 - accuracy: 0.2688\n",
            "Epoch 14/50\n",
            "27/27 [==============================] - 4s 135ms/step - loss: 3.2768 - accuracy: 0.2978\n",
            "Epoch 15/50\n",
            "27/27 [==============================] - 3s 109ms/step - loss: 3.0800 - accuracy: 0.3233\n",
            "Epoch 16/50\n",
            "27/27 [==============================] - 3s 98ms/step - loss: 2.9025 - accuracy: 0.3720\n",
            "Epoch 17/50\n",
            "27/27 [==============================] - 3s 130ms/step - loss: 2.7303 - accuracy: 0.4021\n",
            "Epoch 18/50\n",
            "27/27 [==============================] - 4s 161ms/step - loss: 2.5665 - accuracy: 0.4276\n",
            "Epoch 19/50\n",
            "27/27 [==============================] - 3s 98ms/step - loss: 2.4175 - accuracy: 0.4612\n",
            "Epoch 20/50\n",
            "27/27 [==============================] - 3s 98ms/step - loss: 2.2645 - accuracy: 0.4855\n",
            "Epoch 21/50\n",
            "27/27 [==============================] - 3s 96ms/step - loss: 2.1205 - accuracy: 0.5272\n",
            "Epoch 22/50\n",
            "27/27 [==============================] - 3s 115ms/step - loss: 1.9876 - accuracy: 0.5597\n",
            "Epoch 23/50\n",
            "27/27 [==============================] - 3s 126ms/step - loss: 1.8626 - accuracy: 0.6025\n",
            "Epoch 24/50\n",
            "27/27 [==============================] - 3s 96ms/step - loss: 1.7442 - accuracy: 0.6396\n",
            "Epoch 25/50\n",
            "27/27 [==============================] - 3s 96ms/step - loss: 1.6299 - accuracy: 0.6709\n",
            "Epoch 26/50\n",
            "27/27 [==============================] - 3s 97ms/step - loss: 1.5244 - accuracy: 0.6976\n",
            "Epoch 27/50\n",
            "27/27 [==============================] - 4s 146ms/step - loss: 1.4305 - accuracy: 0.7254\n",
            "Epoch 28/50\n",
            "27/27 [==============================] - 3s 96ms/step - loss: 1.3360 - accuracy: 0.7381\n",
            "Epoch 29/50\n",
            "27/27 [==============================] - 3s 98ms/step - loss: 1.2513 - accuracy: 0.7648\n",
            "Epoch 30/50\n",
            "27/27 [==============================] - 3s 99ms/step - loss: 1.1677 - accuracy: 0.7856\n",
            "Epoch 31/50\n",
            "27/27 [==============================] - 4s 140ms/step - loss: 1.0931 - accuracy: 0.8030\n",
            "Epoch 32/50\n",
            "27/27 [==============================] - 3s 99ms/step - loss: 1.0249 - accuracy: 0.8308\n",
            "Epoch 33/50\n",
            "27/27 [==============================] - 3s 96ms/step - loss: 0.9595 - accuracy: 0.8494\n",
            "Epoch 34/50\n",
            "27/27 [==============================] - 3s 97ms/step - loss: 0.8990 - accuracy: 0.8644\n",
            "Epoch 35/50\n",
            "27/27 [==============================] - 3s 105ms/step - loss: 0.8472 - accuracy: 0.8714\n",
            "Epoch 36/50\n",
            "27/27 [==============================] - 4s 138ms/step - loss: 0.7977 - accuracy: 0.8795\n",
            "Epoch 37/50\n",
            "27/27 [==============================] - 3s 97ms/step - loss: 0.7458 - accuracy: 0.8864\n",
            "Epoch 38/50\n",
            "27/27 [==============================] - 3s 98ms/step - loss: 0.7037 - accuracy: 0.9003\n",
            "Epoch 39/50\n",
            "27/27 [==============================] - 3s 97ms/step - loss: 0.6648 - accuracy: 0.9119\n",
            "Epoch 40/50\n",
            "27/27 [==============================] - 4s 148ms/step - loss: 0.6315 - accuracy: 0.9027\n",
            "Epoch 41/50\n",
            "27/27 [==============================] - 3s 99ms/step - loss: 0.5947 - accuracy: 0.9177\n",
            "Epoch 42/50\n",
            "27/27 [==============================] - 3s 97ms/step - loss: 0.5620 - accuracy: 0.9177\n",
            "Epoch 43/50\n",
            "27/27 [==============================] - 3s 98ms/step - loss: 0.5343 - accuracy: 0.9247\n",
            "Epoch 44/50\n",
            "27/27 [==============================] - 4s 139ms/step - loss: 0.5079 - accuracy: 0.9247\n",
            "Epoch 45/50\n",
            "27/27 [==============================] - 3s 99ms/step - loss: 0.4826 - accuracy: 0.9258\n",
            "Epoch 46/50\n",
            "27/27 [==============================] - 3s 99ms/step - loss: 0.4619 - accuracy: 0.9282\n",
            "Epoch 47/50\n",
            "27/27 [==============================] - 3s 98ms/step - loss: 0.4406 - accuracy: 0.9363\n",
            "Epoch 48/50\n",
            "27/27 [==============================] - 3s 108ms/step - loss: 0.4165 - accuracy: 0.9328\n",
            "Epoch 49/50\n",
            "27/27 [==============================] - 4s 135ms/step - loss: 0.3991 - accuracy: 0.9397\n",
            "Epoch 50/50\n",
            "27/27 [==============================] - 3s 96ms/step - loss: 0.3848 - accuracy: 0.9386\n"
          ]
        },
        {
          "output_type": "execute_result",
          "data": {
            "text/plain": [
              "<keras.src.callbacks.History at 0x7da3e788ca00>"
            ]
          },
          "metadata": {},
          "execution_count": 105
        }
      ]
    },
    {
      "cell_type": "code",
      "source": [
        "import numpy as np\n",
        "text = \"what is the fee\"\n",
        "\n",
        "for i in range(30):\n",
        "  token_text=tokenizer.texts_to_sequences([text])[0]\n",
        "  padded_token=pad_sequences([token_text],maxlen=56,padding='pre')\n",
        "  pos=np.argmax(model.predict(padded_token))\n",
        "  for word,index in tokenizer.word_index.items():\n",
        "    if index==pos:\n",
        "      text=text+\" \"+word\n",
        "      print(text)"
      ],
      "metadata": {
        "colab": {
          "base_uri": "https://localhost:8080/"
        },
        "id": "ID2LMNkViMeH",
        "outputId": "e61f751c-84a5-4de0-c2aa-ff4e18027b39"
      },
      "execution_count": null,
      "outputs": [
        {
          "output_type": "stream",
          "name": "stdout",
          "text": [
            "1/1 [==============================] - 0s 27ms/step\n",
            "what is the fee of\n",
            "1/1 [==============================] - 0s 28ms/step\n",
            "what is the fee of monthly\n",
            "1/1 [==============================] - 0s 31ms/step\n",
            "what is the fee of monthly subscription\n",
            "1/1 [==============================] - 0s 27ms/step\n",
            "what is the fee of monthly subscription suppose\n",
            "1/1 [==============================] - 0s 29ms/step\n",
            "what is the fee of monthly subscription suppose if\n",
            "1/1 [==============================] - 0s 29ms/step\n",
            "what is the fee of monthly subscription suppose if i\n",
            "1/1 [==============================] - 0s 24ms/step\n",
            "what is the fee of monthly subscription suppose if i pay\n",
            "1/1 [==============================] - 0s 34ms/step\n",
            "what is the fee of monthly subscription suppose if i pay on\n",
            "1/1 [==============================] - 0s 26ms/step\n",
            "what is the fee of monthly subscription suppose if i pay on 15th\n",
            "1/1 [==============================] - 0s 27ms/step\n",
            "what is the fee of monthly subscription suppose if i pay on 15th jan\n",
            "1/1 [==============================] - 0s 27ms/step\n",
            "what is the fee of monthly subscription suppose if i pay on 15th jan then\n",
            "1/1 [==============================] - 0s 28ms/step\n",
            "what is the fee of monthly subscription suppose if i pay on 15th jan then do\n",
            "1/1 [==============================] - 0s 25ms/step\n",
            "what is the fee of monthly subscription suppose if i pay on 15th jan then do i\n",
            "1/1 [==============================] - 0s 25ms/step\n",
            "what is the fee of monthly subscription suppose if i pay on 15th jan then do i have\n",
            "1/1 [==============================] - 0s 24ms/step\n",
            "what is the fee of monthly subscription suppose if i pay on 15th jan then do i have to\n",
            "1/1 [==============================] - 0s 29ms/step\n",
            "what is the fee of monthly subscription suppose if i pay on 15th jan then do i have to pay\n",
            "1/1 [==============================] - 0s 28ms/step\n",
            "what is the fee of monthly subscription suppose if i pay on 15th jan then do i have to pay again\n",
            "1/1 [==============================] - 0s 31ms/step\n",
            "what is the fee of monthly subscription suppose if i pay on 15th jan then do i have to pay again on\n",
            "1/1 [==============================] - 0s 26ms/step\n",
            "what is the fee of monthly subscription suppose if i pay on 15th jan then do i have to pay again on 1st\n",
            "1/1 [==============================] - 0s 26ms/step\n",
            "what is the fee of monthly subscription suppose if i pay on 15th jan then do i have to pay again on 1st feb\n",
            "1/1 [==============================] - 0s 27ms/step\n",
            "what is the fee of monthly subscription suppose if i pay on 15th jan then do i have to pay again on 1st feb or\n",
            "1/1 [==============================] - 0s 29ms/step\n",
            "what is the fee of monthly subscription suppose if i pay on 15th jan then do i have to pay again on 1st feb or 15th\n",
            "1/1 [==============================] - 0s 26ms/step\n",
            "what is the fee of monthly subscription suppose if i pay on 15th jan then do i have to pay again on 1st feb or 15th feb\n",
            "1/1 [==============================] - 0s 31ms/step\n",
            "what is the fee of monthly subscription suppose if i pay on 15th jan then do i have to pay again on 1st feb or 15th feb 15th\n",
            "1/1 [==============================] - 0s 26ms/step\n",
            "what is the fee of monthly subscription suppose if i pay on 15th jan then do i have to pay again on 1st feb or 15th feb 15th feb\n",
            "1/1 [==============================] - 0s 25ms/step\n",
            "what is the fee of monthly subscription suppose if i pay on 15th jan then do i have to pay again on 1st feb or 15th feb 15th feb you\n",
            "1/1 [==============================] - 0s 29ms/step\n",
            "what is the fee of monthly subscription suppose if i pay on 15th jan then do i have to pay again on 1st feb or 15th feb 15th feb you will\n",
            "1/1 [==============================] - 0s 25ms/step\n",
            "what is the fee of monthly subscription suppose if i pay on 15th jan then do i have to pay again on 1st feb or 15th feb 15th feb you will have\n",
            "1/1 [==============================] - 0s 26ms/step\n",
            "what is the fee of monthly subscription suppose if i pay on 15th jan then do i have to pay again on 1st feb or 15th feb 15th feb you will have to\n",
            "1/1 [==============================] - 0s 29ms/step\n",
            "what is the fee of monthly subscription suppose if i pay on 15th jan then do i have to pay again on 1st feb or 15th feb 15th feb you will have to purchase\n"
          ]
        }
      ]
    }
  ]
}